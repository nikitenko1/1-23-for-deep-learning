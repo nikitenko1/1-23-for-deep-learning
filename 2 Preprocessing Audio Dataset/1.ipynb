{
  "cells": [
    {
      "cell_type": "markdown",
      "id": "50a97490",
      "metadata": {
        "id": "50a97490"
      },
      "source": [
        "<p style=\"font-family:consolas; font-size: 28px; color: magenta\">Preprocessing the Audio Dataset</p>"
      ]
    },
    {
      "cell_type": "code",
      "execution_count": null,
      "id": "b2b52be6",
      "metadata": {
        "colab": {
          "base_uri": "https://localhost:8080/",
          "height": 70
        },
        "id": "b2b52be6",
        "outputId": "389cacb9-75ee-41c7-c8e0-8a8f8a583e67"
      },
      "outputs": [
        {
          "data": {
            "application/vnd.google.colaboratory.intrinsic+json": {
              "type": "string"
            },
            "text/plain": [
              "'\\n CIFAR-10 Dataset as it suggests has 10 different categories of images in it. \\n There is a total of 60000 images of 10 different classes \\n naming Airplane, Automobile, Bird, Cat, Deer, Dog, Frog, Horse, Ship, Truck. All the images are of size 32x32. \\n There are in total 50000 train images and 10000 test images.\\n'"
            ]
          },
          "execution_count": 1,
          "metadata": {},
          "output_type": "execute_result"
        }
      ],
      "source": [
        "'''\n",
        " Audio preprocessing is a critical step in the pipeline of audio data analysis and machine learning applications. \n",
        " It involves a series of techniques applied to raw audio data to enhance its quality, extract meaningful features, \n",
        " and prepare it for further analysis or input into machine learning models\n",
        "'''"
      ]
    },
    {
      "cell_type": "markdown",
      "id": "94335377",
      "metadata": {
        "id": "94335377"
      },
      "source": [
        "<p style=\"font-family:consolas; font-size: 18px; color: orange; text-decoration-line: overline; \"> 1: _Noise Reduction:</p>\n"
      ]
    },
    {
      "cell_type": "markdown",
      "id": "a01094c4",
      "metadata": {},
      "source": [
        "<p style=\"font-family:consolas; font-size: 18px; color: orange; text-decoration-line: overline; \"> 2: _Standardization of Formats: </p>"
      ]
    },
    {
      "cell_type": "markdown",
      "id": "e8f3879e",
      "metadata": {},
      "source": [
        "<p style=\"font-family:consolas; font-size: 18px; color: orange; text-decoration-line: overline; \"> 3: _Feature Extraction: </p>"
      ]
    },
    {
      "cell_type": "markdown",
      "id": "b7b3af68",
      "metadata": {},
      "source": [
        "<p style=\"font-family:consolas; font-size: 18px; color: orange; text-decoration-line: overline; \"> 4: _Resampling:</p>"
      ]
    },
    {
      "cell_type": "markdown",
      "id": "0abf8541",
      "metadata": {},
      "source": [
        "<p style=\"font-family:consolas; font-size: 18px; color: orange; text-decoration-line: overline; \"> 5: _Normalization:</p>"
      ]
    },
    {
      "cell_type": "markdown",
      "id": "697182ab",
      "metadata": {},
      "source": [
        "<p style=\"font-family:consolas; font-size: 18px; color: orange; text-decoration-line: overline; \"> 6: _Handling Variable Lengths: </p>"
      ]
    },
    {
      "cell_type": "markdown",
      "id": "ed6d93b4",
      "metadata": {},
      "source": [
        "<p style=\"font-family:consolas; font-size: 18px; color: orange; text-decoration-line: overline; \"> 7: _Model Efficiency:</p>"
      ]
    },
    {
      "cell_type": "markdown",
      "id": "0342e286",
      "metadata": {},
      "source": [
        "<p style=\"font-family:consolas; font-size: 18px; color: orange; text-decoration-line: overline; \"> 8: _Improved Model Performance: </p>\n"
      ]
    },
    {
      "cell_type": "markdown",
      "id": "ccfbc28d",
      "metadata": {},
      "source": [
        "<p style=\"font-family:Roboto; font-size: 22px; color: magenta; text-decoration-line: overline; \"> Part: _Importing required libraries</p>"
      ]
    },
    {
      "cell_type": "code",
      "execution_count": 1,
      "id": "0277c210",
      "metadata": {
        "colab": {
          "base_uri": "https://localhost:8080/"
        },
        "id": "0277c210",
        "outputId": "da52fc0f-e945-4549-ea09-3f7ddb824998"
      },
      "outputs": [],
      "source": [
        "import librosa\n",
        "from scipy.signal import butter, filtfilt\n",
        "import numpy as np\n",
        "import os\n",
        "import matplotlib.pyplot as plt "
      ]
    },
    {
      "cell_type": "markdown",
      "id": "d33b8d3f",
      "metadata": {
        "id": "d33b8d3f"
      },
      "source": [
        "<p style=\"font-family:Roboto; font-size: 22px; color: orange; text-decoration-line: overline; \"> Part: _Load dataset</p>"
      ]
    },
    {
      "cell_type": "code",
      "execution_count": 2,
      "id": "bd60612e",
      "metadata": {
        "colab": {
          "base_uri": "https://localhost:8080/"
        },
        "id": "bd60612e",
        "outputId": "577096c2-02bc-4551-e7b9-5d3db4200e81"
      },
      "outputs": [
        {
          "name": "stdout",
          "output_type": "stream",
          "text": [
            "Sample rate after Resampling: 16000\n"
          ]
        }
      ],
      "source": [
        "'''\n",
        "Resampling is the process of changing the sample rate of an audio signal. \n",
        "'''\n",
        "# Load a sample audio file\n",
        "sample_audio_path = '../data/barbie_vs_puppy/barbie/barbie_4.wav'\n",
        "\n",
        "# Resample the audio\n",
        "def resample_audio(audio_path, target_sr=16000):\n",
        "    y, sr = librosa.load(audio_path, sr=target_sr)\n",
        "    return y, sr\n",
        "resampled_audio, sr = resample_audio(sample_audio_path)\n",
        "print(f\"Sample rate after Resampling: {sr}\")"
      ]
    },
    {
      "cell_type": "code",
      "execution_count": null,
      "id": "2fc85ece",
      "metadata": {},
      "outputs": [],
      "source": [
        "'''\n",
        "So, we have resampled one audio file of the dataset to our desired sampling rate. \n",
        "We can now just iterate the dataset to resample all the files\n",
        "'''"
      ]
    },
    {
      "cell_type": "markdown",
      "id": "296dd9eb",
      "metadata": {
        "id": "296dd9eb"
      },
      "source": [
        "<p style=\"font-family:Roboto; font-size: 22px; color: magenta; text-decoration-line: overline; \"> Part: _Filtering</p>"
      ]
    },
    {
      "cell_type": "code",
      "execution_count": 3,
      "id": "688caf8b",
      "metadata": {
        "colab": {
          "base_uri": "https://localhost:8080/",
          "height": 806
        },
        "id": "688caf8b",
        "outputId": "0f32d1ee-2d71-4745-8844-b114ac1af94c"
      },
      "outputs": [
        {
          "name": "stdout",
          "output_type": "stream",
          "text": [
            "Filtered audio shape: (31403,)\n"
          ]
        }
      ],
      "source": [
        "'''\n",
        "Filtering which typically involves the application of signal processing filters like low-pass, \n",
        "high-pass or band-pass filters\n",
        "\n",
        "'''\n",
        "# Apply filtering\n",
        "def butter_lowpass_filter(data, cutoff_freq, sample_rate, order=4):\n",
        "    nyquist = 0.5 * sample_rate\n",
        "    normal_cutoff = cutoff_freq / nyquist\n",
        "    b, a = butter(order, normal_cutoff, btype='low', analog=False)\n",
        "    filtered_data = filtfilt(b, a, data)\n",
        "    print(f\"Filtered audio shape: {filtered_data.shape}\")\n",
        "    return filtered_data\n",
        "\n",
        "filtered_audio = butter_lowpass_filter(resampled_audio, cutoff_freq=4000, sample_rate=sr)"
      ]
    },
    {
      "cell_type": "markdown",
      "id": "768d4b3b",
      "metadata": {},
      "source": [
        "<p style=\"font-family:Roboto; font-size: 22px; color: magenta; text-decoration-line: overline; \"> Part: _Converting audio data to model's expected input</p>"
      ]
    },
    {
      "cell_type": "code",
      "execution_count": null,
      "id": "65c37ed1",
      "metadata": {},
      "outputs": [],
      "source": [
        "'''\n",
        "Converting audio data to the model's expected input involves shaping the raw audio signal into a format \n",
        "suitable for feeding into a machine learning model\n",
        "'''"
      ]
    },
    {
      "cell_type": "code",
      "execution_count": 4,
      "id": "88419b31",
      "metadata": {},
      "outputs": [
        {
          "name": "stdout",
          "output_type": "stream",
          "text": [
            "Model input shape: (16000,)\n"
          ]
        }
      ],
      "source": [
        "'''\n",
        "Here we will define a small function (convert_to_model_input) by which we will trim the audio files \n",
        "to a fixed target length which is here 16000 \n",
        "as it is most general input shape for model feeding\n",
        "'''\n",
        "# Convert audio data to the model’s expected input\n",
        "def convert_to_model_input(y, target_length):\n",
        "    if len(y) < target_length:\n",
        "        y = np.pad(y, (0, target_length - len(y)))\n",
        "    else:\n",
        "        y = y[:target_length]\n",
        "    return y\n",
        "\n",
        "model_input = convert_to_model_input(filtered_audio, target_length=16000)\n",
        "print(f\"Model input shape: {model_input.shape}\")"
      ]
    },
    {
      "cell_type": "markdown",
      "id": "69747e5c",
      "metadata": {},
      "source": [
        "<p style=\"font-family:Roboto; font-size: 22px; color: magenta; text-decoration-line: overline; \"> Part: _Audio Data Streaming</p>"
      ]
    },
    {
      "cell_type": "code",
      "execution_count": null,
      "id": "1a3afa3c",
      "metadata": {},
      "outputs": [],
      "source": [
        "'''\n",
        "Audio data streaming which is a process of handling and processing audio data in a sequential, batched or real-time manner\n",
        "'''"
      ]
    },
    {
      "cell_type": "code",
      "execution_count": 5,
      "id": "f3b8f2cf",
      "metadata": {},
      "outputs": [
        {
          "name": "stdout",
          "output_type": "stream",
          "text": [
            "Filtered audio shape: (27021,)\n",
            "Filtered audio shape: (36088,)\n",
            "Processing batch with 2 files\n",
            "Shape of the first file: (16000,)\n",
            "Filtered audio shape: (33792,)\n",
            "Filtered audio shape: (37547,)\n",
            "Processing batch with 2 files\n",
            "Shape of the first file: (16000,)\n",
            "Filtered audio shape: (30379,)\n",
            "Filtered audio shape: (40278,)\n",
            "Processing batch with 2 files\n",
            "Shape of the first file: (16000,)\n",
            "Filtered audio shape: (31360,)\n",
            "Filtered audio shape: (33792,)\n",
            "Processing batch with 2 files\n",
            "Shape of the first file: (16000,)\n",
            "Filtered audio shape: (36178,)\n",
            "Filtered audio shape: (31137,)\n",
            "Processing batch with 2 files\n",
            "Shape of the first file: (16000,)\n",
            "Filtered audio shape: (44715,)\n",
            "Filtered audio shape: (37547,)\n",
            "Processing batch with 2 files\n",
            "Shape of the first file: (16000,)\n",
            "Filtered audio shape: (23520,)\n",
            "Filtered audio shape: (31403,)\n",
            "Processing batch with 2 files\n",
            "Shape of the first file: (16000,)\n",
            "Filtered audio shape: (28480,)\n",
            "Filtered audio shape: (23520,)\n",
            "Processing batch with 2 files\n",
            "Shape of the first file: (16000,)\n",
            "Filtered audio shape: (24640,)\n",
            "Filtered audio shape: (38571,)\n",
            "Processing batch with 2 files\n",
            "Shape of the first file: (16000,)\n",
            "Filtered audio shape: (24333,)\n",
            "Filtered audio shape: (42560,)\n",
            "Processing batch with 2 files\n",
            "Shape of the first file: (16000,)\n",
            "Filtered audio shape: (24640,)\n",
            "Filtered audio shape: (49280,)\n",
            "Processing batch with 2 files\n",
            "Shape of the first file: (16000,)\n",
            "Filtered audio shape: (57686,)\n",
            "Filtered audio shape: (31542,)\n",
            "Processing batch with 2 files\n",
            "Shape of the first file: (16000,)\n",
            "Filtered audio shape: (38080,)\n",
            "Filtered audio shape: (42560,)\n",
            "Processing batch with 2 files\n",
            "Shape of the first file: (16000,)\n",
            "Filtered audio shape: (51542,)\n",
            "Filtered audio shape: (30720,)\n",
            "Processing batch with 2 files\n",
            "Shape of the first file: (16000,)\n",
            "Filtered audio shape: (29365,)\n",
            "Filtered audio shape: (36182,)\n",
            "Processing batch with 2 files\n",
            "Shape of the first file: (16000,)\n",
            "Filtered audio shape: (26966,)\n",
            "Filtered audio shape: (25600,)\n",
            "Processing batch with 2 files\n",
            "Shape of the first file: (16000,)\n",
            "Filtered audio shape: (31403,)\n",
            "Filtered audio shape: (53760,)\n",
            "Processing batch with 2 files\n",
            "Shape of the first file: (16000,)\n",
            "Filtered audio shape: (26966,)\n",
            "Filtered audio shape: (88406,)\n",
            "Processing batch with 2 files\n",
            "Shape of the first file: (16000,)\n",
            "Filtered audio shape: (31403,)\n",
            "Filtered audio shape: (23520,)\n",
            "Processing batch with 2 files\n",
            "Shape of the first file: (16000,)\n",
            "Filtered audio shape: (36864,)\n",
            "Filtered audio shape: (32768,)\n",
            "Processing batch with 2 files\n",
            "Shape of the first file: (16000,)\n",
            "Filtered audio shape: (26913,)\n",
            "Filtered audio shape: (27596,)\n",
            "Processing batch with 2 files\n",
            "Shape of the first file: (16000,)\n",
            "Filtered audio shape: (39200,)\n",
            "Filtered audio shape: (24918,)\n",
            "Processing batch with 2 files\n",
            "Shape of the first file: (16000,)\n",
            "Filtered audio shape: (17920,)\n",
            "Filtered audio shape: (40619,)\n",
            "Processing batch with 2 files\n",
            "Shape of the first file: (16000,)\n",
            "Filtered audio shape: (26624,)\n",
            "Filtered audio shape: (30720,)\n",
            "Processing batch with 2 files\n",
            "Shape of the first file: (16000,)\n",
            "Filtered audio shape: (26624,)\n",
            "Filtered audio shape: (29014,)\n",
            "Processing batch with 2 files\n",
            "Shape of the first file: (16000,)\n"
          ]
        }
      ],
      "source": [
        "'''The generator function stream_audio_dataset loads and processes the audio files from a specified dataset path.\n",
        "\n",
        "#the audio_files is a list containing the path of all audios in the specified dataset.\n",
        "#the list of audio file paths is shuffled to introduce randomness.\n",
        "#In the batch processing step,\n",
        "    $the function yields batches of audio data with a specified batch size.\n",
        "    $for each batch, the code loads and preprocesses each audio file in the batch.\n",
        "    $audio files are loaded using Librosa, and resampling is applied if a target sampling rate is mentioned.\n",
        "    $low pass filter is applied to each audio file.\n",
        "#The generator processes the batches of audio data from the specified dataset path.\n",
        "#Each batch is printed with the shape of the first file in the batch.'''\n",
        "def stream_audio_dataset(dataset_path, batch_size=32, target_length=16000, target_sr=None):\n",
        "    # Get all audio file paths in the dataset path\n",
        "    audio_files = [os.path.join(root, file) for root, dirs, files in os.walk(dataset_path) for file in files]\n",
        "\n",
        "    # Shuffle the audio files for randomness\n",
        "    np.random.shuffle(audio_files)\n",
        "\n",
        "    # Yield batches of audio data\n",
        "    for i in range(0, len(audio_files), batch_size):\n",
        "        batch_paths = audio_files[i:i + batch_size]\n",
        "        batch_data = []\n",
        "\n",
        "        for file_path in batch_paths:\n",
        "            # Load and preprocess each audio file\n",
        "            y, sr = librosa.load(file_path, sr=target_sr)\n",
        "\n",
        "            # Resampling\n",
        "            if target_sr is not None and sr != target_sr:\n",
        "                y = librosa.resample(y, sr, target_sr)\n",
        "                sr = target_sr\n",
        "\n",
        "            filtered_audio = butter_lowpass_filter(y, cutoff_freq=4000, sample_rate=sr)\n",
        "            model_input = convert_to_model_input(filtered_audio, target_length=target_length)\n",
        "            batch_data.append(model_input)\n",
        "\n",
        "        yield np.array(batch_data)\n",
        "\n",
        "# Load the dataset folder\n",
        "dataset_path = '../data/barbie_vs_puppy/barbie'\n",
        "\n",
        "for batch_data in stream_audio_dataset(dataset_path, batch_size=2, target_sr=16000):\n",
        "    # Process each batch of audio data\n",
        "    print(f\"Processing batch with {len(batch_data)} files\")\n",
        "\n",
        "    # Print the shape of the first file in the batch\n",
        "    print(f\"Shape of the first file: {batch_data[0].shape}\")"
      ]
    },
    {
      "cell_type": "markdown",
      "id": "f7740474",
      "metadata": {},
      "source": [
        "<p style=\"font-family:Roboto; font-size: 22px; color: magenta; text-decoration-line: overline; \"> Part: _Log-Mel Spectrogram</p>"
      ]
    },
    {
      "cell_type": "code",
      "execution_count": null,
      "id": "ec0b2b74",
      "metadata": {},
      "outputs": [],
      "source": [
        "'''\n",
        "A log-mel spectrogram is a representation of the frequency content of an audio signal over time, \n",
        "widely used in audio signal processing and machine learning applications\n",
        "'''\n",
        "'''\n",
        "The log-mel spectrogram further enhances visualization by taking the logarithm of the power values which makes \n",
        "it more suitable for human perception and aiding in the extraction of meaningful features.\n",
        "'''"
      ]
    },
    {
      "cell_type": "code",
      "execution_count": 7,
      "id": "a5e23e02",
      "metadata": {},
      "outputs": [
        {
          "data": {
            "image/png": "[encoded data removed]",
            "text/plain": [
              "<Figure size 800x400 with 2 Axes>"
            ]
          },
          "metadata": {},
          "output_type": "display_data"
        }
      ],
      "source": [
        "# visualizing log-mel spectrogram\n",
        "def compute_logmel_spectrogram(y, sr, n_mels=128, hop_length=512):\n",
        "    mel_spectrogram = librosa.feature.melspectrogram(y=y, sr=sr, n_mels=n_mels, hop_length=hop_length)\n",
        "    logmel_spectrogram = librosa.power_to_db(mel_spectrogram, ref=np.max)\n",
        "    return logmel_spectrogram\n",
        "\n",
        "# load the audio file\n",
        "audio_file_path = '../data/barbie_vs_puppy/barbie/barbie_4.wav'\n",
        "target_sr = 16000\n",
        "\n",
        "# Load the audio file\n",
        "y, sr = librosa.load(audio_file_path, sr=target_sr)\n",
        "\n",
        "# Compute log-mel spectrogram\n",
        "logmel_spectrogram = compute_logmel_spectrogram(y, sr=sr)\n",
        "\n",
        "# Display the log-mel spectrogram\n",
        "plt.figure(figsize=(8, 4))\n",
        "librosa.display.specshow(logmel_spectrogram, sr=sr, hop_length=512, x_axis='time', y_axis='mel')\n",
        "plt.colorbar(format='%+2.0f dB')\n",
        "plt.title('Log-Mel Spectrogram')\n",
        "plt.show()"
      ]
    },
    {
      "cell_type": "code",
      "execution_count": null,
      "id": "01b2b777",
      "metadata": {},
      "outputs": [],
      "source": [
        "'''\n",
        " The resulting log-mel spectrogram provides a compact and informative representation t\n",
        " hat is commonly used as input to deep learning models for audio-based tasks\n",
        "'''"
      ]
    }
  ],
  "metadata": {
    "accelerator": "GPU",
    "colab": {
      "gpuType": "T4",
      "provenance": []
    },
    "kernelspec": {
      "display_name": "base",
      "language": "python",
      "name": "python3"
    },
    "language_info": {
      "codemirror_mode": {
        "name": "ipython",
        "version": 3
      },
      "file_extension": ".py",
      "mimetype": "text/x-python",
      "name": "python",
      "nbconvert_exporter": "python",
      "pygments_lexer": "ipython3",
      "version": "3.12.7"
    }
  },
  "nbformat": 4,
  "nbformat_minor": 5
}
